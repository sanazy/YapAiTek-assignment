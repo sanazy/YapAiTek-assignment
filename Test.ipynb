{
 "cells": [
  {
   "cell_type": "markdown",
   "metadata": {},
   "source": [
    "> For further description, please refer to Training.ipynb file."
   ]
  },
  {
   "cell_type": "markdown",
   "metadata": {},
   "source": [
    "## Topics:\n",
    "1. Imports\n",
    "2. Getting dataset ready\n",
    "    1. Merge Train and Test dataset\n",
    "    2. Cleansing Dataset\n",
    "    3. Handle Missing Values\n",
    "3. Feature Engineering\n",
    "4. Modeling and Predicting\n",
    "    1. Train and Test data seperation\n",
    "    2. Load the Model\n",
    "    3. Predicting output of Test data"
   ]
  },
  {
   "cell_type": "markdown",
   "metadata": {},
   "source": [
    "---"
   ]
  },
  {
   "cell_type": "markdown",
   "metadata": {},
   "source": [
    "## 1. Imports"
   ]
  },
  {
   "cell_type": "code",
   "execution_count": 1,
   "metadata": {
    "scrolled": true
   },
   "outputs": [],
   "source": [
    "import numpy as np\n",
    "import pandas as pd\n",
    "import datetime as dt\n",
    "import re\n",
    "import pickle\n",
    "import seaborn as sns\n",
    "import matplotlib.pyplot as plt\n",
    "import plotly.express as px\n",
    "import plotly.graph_objects as go\n",
    "from plotly.subplots import make_subplots\n",
    "from sklearn.model_selection import train_test_split\n",
    "from sklearn.linear_model import LinearRegression, Lasso\n",
    "from sklearn.model_selection import cross_val_score, cross_validate, KFold, TimeSeriesSplit\n",
    "from sklearn.metrics import mean_absolute_error, r2_score\n",
    "import xgboost as xgb\n",
    "from xgboost import plot_importance\n",
    "\n",
    "%matplotlib inline"
   ]
  },
  {
   "cell_type": "markdown",
   "metadata": {},
   "source": [
    "***"
   ]
  },
  {
   "cell_type": "markdown",
   "metadata": {},
   "source": [
    "## 2. Getting dataset ready"
   ]
  },
  {
   "cell_type": "markdown",
   "metadata": {},
   "source": [
    "> You can access test data from [here](https://drive.google.com/open?id=1C1eDzYSWy5vyhD--4Dn8tS_ev-wpUrOp)"
   ]
  },
  {
   "cell_type": "code",
   "execution_count": 2,
   "metadata": {
    "scrolled": true
   },
   "outputs": [],
   "source": [
    "# Read train and test dataset\n",
    "df_train = pd.read_csv('data.csv')\n",
    "df_test = pd.read_csv('test.csv')"
   ]
  },
  {
   "cell_type": "code",
   "execution_count": 3,
   "metadata": {},
   "outputs": [
    {
     "name": "stdout",
     "output_type": "stream",
     "text": [
      "(616656, 20)\n",
      "(154165, 19)\n"
     ]
    }
   ],
   "source": [
    "print(df_train.shape)\n",
    "print(df_test.shape)"
   ]
  },
  {
   "cell_type": "code",
   "execution_count": 4,
   "metadata": {},
   "outputs": [],
   "source": [
    "# Keep last index of training dataset\n",
    "last_index = df_train.shape[0]"
   ]
  },
  {
   "cell_type": "code",
   "execution_count": 5,
   "metadata": {},
   "outputs": [],
   "source": [
    "# Add new column for test dataset\n",
    "df_test['Market Share_total'] = 0.0"
   ]
  },
  {
   "cell_type": "markdown",
   "metadata": {},
   "source": [
    "#### A. Merge Train and Test dataset"
   ]
  },
  {
   "cell_type": "code",
   "execution_count": 6,
   "metadata": {},
   "outputs": [],
   "source": [
    "# Merge train and test dataset into one dataframe\n",
    "pieces = {'train': df_train, 'test': df_test}\n",
    "df = pd.concat(pieces, sort=False, ignore_index=True)"
   ]
  },
  {
   "cell_type": "code",
   "execution_count": 7,
   "metadata": {},
   "outputs": [
    {
     "data": {
      "text/html": [
       "<div>\n",
       "<style scoped>\n",
       "    .dataframe tbody tr th:only-of-type {\n",
       "        vertical-align: middle;\n",
       "    }\n",
       "\n",
       "    .dataframe tbody tr th {\n",
       "        vertical-align: top;\n",
       "    }\n",
       "\n",
       "    .dataframe thead th {\n",
       "        text-align: right;\n",
       "    }\n",
       "</style>\n",
       "<table border=\"1\" class=\"dataframe\">\n",
       "  <thead>\n",
       "    <tr style=\"text-align: right;\">\n",
       "      <th></th>\n",
       "      <th>Unnamed: 0</th>\n",
       "      <th>Episode</th>\n",
       "      <th>Station</th>\n",
       "      <th>Channel Type</th>\n",
       "      <th>Season</th>\n",
       "      <th>Year</th>\n",
       "      <th>Date</th>\n",
       "      <th>Day of week</th>\n",
       "      <th>Start_time</th>\n",
       "      <th>End_time</th>\n",
       "      <th>Length</th>\n",
       "      <th>Name of show</th>\n",
       "      <th>Name of episode</th>\n",
       "      <th>Genre</th>\n",
       "      <th>First time or rerun</th>\n",
       "      <th># of episode in the season</th>\n",
       "      <th>Movie?</th>\n",
       "      <th>Game of the Canadiens during episode?</th>\n",
       "      <th>Market Share_total</th>\n",
       "      <th>Temperature in Montreal during episode</th>\n",
       "    </tr>\n",
       "  </thead>\n",
       "  <tbody>\n",
       "    <tr>\n",
       "      <td>616655</td>\n",
       "      <td>616656</td>\n",
       "      <td>Mom V.F. (M)</td>\n",
       "      <td>VRAK+</td>\n",
       "      <td>Specialty Channel</td>\n",
       "      <td>Winter</td>\n",
       "      <td>2019</td>\n",
       "      <td>2019-01-22</td>\n",
       "      <td>Tuesday</td>\n",
       "      <td>2019-01-22 11:00:00</td>\n",
       "      <td>2019-01-22 11:30:00</td>\n",
       "      <td>2</td>\n",
       "      <td>Mom V.F. (M)</td>\n",
       "      <td>Les bons samaritains</td>\n",
       "      <td>Ongoing Comedy Series (Sitcoms)</td>\n",
       "      <td>No</td>\n",
       "      <td>Yes</td>\n",
       "      <td>No</td>\n",
       "      <td>No</td>\n",
       "      <td>1.6</td>\n",
       "      <td>-22.525</td>\n",
       "    </tr>\n",
       "    <tr>\n",
       "      <td>616656</td>\n",
       "      <td>1</td>\n",
       "      <td>Mom V.F. (M)</td>\n",
       "      <td>VRAK+</td>\n",
       "      <td>Specialty Channel</td>\n",
       "      <td>Winter</td>\n",
       "      <td>2019</td>\n",
       "      <td>2019-01-22</td>\n",
       "      <td>Tuesday</td>\n",
       "      <td>2019-01-22 11:30:00</td>\n",
       "      <td>2019-01-22 12:00:00</td>\n",
       "      <td>2</td>\n",
       "      <td>Mom V.F. (M)</td>\n",
       "      <td>Abstinence</td>\n",
       "      <td>Ongoing Comedy Series (Sitcoms)</td>\n",
       "      <td>No</td>\n",
       "      <td>Yes</td>\n",
       "      <td>No</td>\n",
       "      <td>No</td>\n",
       "      <td>0.0</td>\n",
       "      <td>-22.525</td>\n",
       "    </tr>\n",
       "    <tr>\n",
       "      <td>616657</td>\n",
       "      <td>2</td>\n",
       "      <td>2 filles fauchées</td>\n",
       "      <td>VRAK+</td>\n",
       "      <td>Specialty Channel</td>\n",
       "      <td>Winter</td>\n",
       "      <td>2019</td>\n",
       "      <td>2019-01-22</td>\n",
       "      <td>Tuesday</td>\n",
       "      <td>2019-01-22 12:00:00</td>\n",
       "      <td>2019-01-22 12:30:00</td>\n",
       "      <td>2</td>\n",
       "      <td>2 filles fauchées</td>\n",
       "      <td>Et la rupture</td>\n",
       "      <td>Ongoing Comedy Series (Sitcoms)</td>\n",
       "      <td>No</td>\n",
       "      <td>Yes</td>\n",
       "      <td>No</td>\n",
       "      <td>No</td>\n",
       "      <td>0.0</td>\n",
       "      <td>-21.625</td>\n",
       "    </tr>\n",
       "  </tbody>\n",
       "</table>\n",
       "</div>"
      ],
      "text/plain": [
       "        Unnamed: 0            Episode Station       Channel Type  Season  \\\n",
       "616655      616656       Mom V.F. (M)   VRAK+  Specialty Channel  Winter   \n",
       "616656           1       Mom V.F. (M)   VRAK+  Specialty Channel  Winter   \n",
       "616657           2  2 filles fauchées   VRAK+  Specialty Channel  Winter   \n",
       "\n",
       "        Year        Date Day of week           Start_time  \\\n",
       "616655  2019  2019-01-22     Tuesday  2019-01-22 11:00:00   \n",
       "616656  2019  2019-01-22     Tuesday  2019-01-22 11:30:00   \n",
       "616657  2019  2019-01-22     Tuesday  2019-01-22 12:00:00   \n",
       "\n",
       "                   End_time  Length       Name of show       Name of episode  \\\n",
       "616655  2019-01-22 11:30:00       2       Mom V.F. (M)  Les bons samaritains   \n",
       "616656  2019-01-22 12:00:00       2       Mom V.F. (M)            Abstinence   \n",
       "616657  2019-01-22 12:30:00       2  2 filles fauchées         Et la rupture   \n",
       "\n",
       "                                  Genre First time or rerun  \\\n",
       "616655  Ongoing Comedy Series (Sitcoms)                  No   \n",
       "616656  Ongoing Comedy Series (Sitcoms)                  No   \n",
       "616657  Ongoing Comedy Series (Sitcoms)                  No   \n",
       "\n",
       "       # of episode in the season Movie?  \\\n",
       "616655                        Yes     No   \n",
       "616656                        Yes     No   \n",
       "616657                        Yes     No   \n",
       "\n",
       "       Game of the Canadiens during episode?  Market Share_total  \\\n",
       "616655                                    No                 1.6   \n",
       "616656                                    No                 0.0   \n",
       "616657                                    No                 0.0   \n",
       "\n",
       "        Temperature in Montreal during episode  \n",
       "616655                                 -22.525  \n",
       "616656                                 -22.525  \n",
       "616657                                 -21.625  "
      ]
     },
     "execution_count": 7,
     "metadata": {},
     "output_type": "execute_result"
    }
   ],
   "source": [
    "df[last_index-1:last_index+2]"
   ]
  },
  {
   "cell_type": "markdown",
   "metadata": {},
   "source": [
    "#### B. Cleansing Dataset"
   ]
  },
  {
   "cell_type": "code",
   "execution_count": 8,
   "metadata": {},
   "outputs": [],
   "source": [
    "# Rename some column names for convinience\n",
    "df.rename(columns = {\"Market Share_total\": \"Target\", \n",
    "                     \"Temperature in Montreal during episode\": \"Temperature\",\n",
    "                     \"Game of the Canadiens during episode?\": \"Any game?\", \n",
    "                     \"First time or rerun\": \"First time?\",\n",
    "                     \"# of episode in the season\": \"Episodes?\"},\n",
    "         inplace=True)"
   ]
  },
  {
   "cell_type": "code",
   "execution_count": 9,
   "metadata": {},
   "outputs": [],
   "source": [
    "# Change Date column to datetime type\n",
    "df['Date'] = pd.to_datetime(df['Date'])\n",
    "\n",
    "# Create new columns: \"Month\" and \"Day\" from \"Date\" Column\n",
    "df['Day'] = df['Date'].dt.day\n",
    "df['Month'] = df['Date'].dt.month\n",
    "\n",
    "# Extract time from \"Start_time\"\n",
    "df['Start_time'] = pd.to_datetime(df['Start_time']).dt.time\n",
    "\n",
    "# Extract time from \"End_time\"\n",
    "df['End_time'] = pd.to_datetime(df['End_time']).dt.time"
   ]
  },
  {
   "cell_type": "markdown",
   "metadata": {},
   "source": [
    "#### C. Handle Missing Values"
   ]
  },
  {
   "cell_type": "code",
   "execution_count": 10,
   "metadata": {},
   "outputs": [
    {
     "data": {
      "text/plain": [
       "Unnamed: 0              0\n",
       "Episode                 0\n",
       "Station                 0\n",
       "Channel Type            0\n",
       "Season                  0\n",
       "Year                    0\n",
       "Date                    0\n",
       "Day of week             0\n",
       "Start_time             65\n",
       "End_time               65\n",
       "Length                  0\n",
       "Name of show            0\n",
       "Name of episode    253198\n",
       "Genre                   0\n",
       "First time?             0\n",
       "Episodes?               0\n",
       "Movie?                  0\n",
       "Any game?               0\n",
       "Target                  0\n",
       "Temperature        106573\n",
       "Day                     0\n",
       "Month                   0\n",
       "dtype: int64"
      ]
     },
     "execution_count": 10,
     "metadata": {},
     "output_type": "execute_result"
    }
   ],
   "source": [
    "df.isnull().sum()"
   ]
  },
  {
   "cell_type": "code",
   "execution_count": 11,
   "metadata": {},
   "outputs": [],
   "source": [
    "# Remove Name of episode Column\n",
    "df.drop('Name of episode', axis=1, inplace=True)"
   ]
  },
  {
   "cell_type": "code",
   "execution_count": 12,
   "metadata": {},
   "outputs": [],
   "source": [
    "# Subtitude missing values of Start_time with some dummy number \n",
    "indices = df[df['Start_time'].isnull()]['Start_time'].index\n",
    "for i in indices:\n",
    "    df.at[i, ['Start_time']] = dt.datetime.strptime('03:00:00', '%H:%M:%S').time()"
   ]
  },
  {
   "cell_type": "code",
   "execution_count": 13,
   "metadata": {},
   "outputs": [],
   "source": [
    "indices = df[df['End_time'].isnull()]['End_time'].index\n",
    "for i in indices:\n",
    "    df.at[i, ['End_time']] = dt.datetime.strptime('03:00:00', '%H:%M:%S').time()"
   ]
  },
  {
   "cell_type": "code",
   "execution_count": 14,
   "metadata": {},
   "outputs": [],
   "source": [
    "# Subtitude missing temperature values with average temperature among differnt months\n",
    "indices = df[df['Temperature'].isnull()]['Month'].index\n",
    "months = df[df['Temperature'].isnull()]['Month'].values\n",
    "mean_temps = df['Temperature'].groupby(df['Month']).mean()\n",
    "\n",
    "for i,month in enumerate(months):\n",
    "    df.at[indices[i], 'Temperature'] = mean_temps[month]"
   ]
  },
  {
   "cell_type": "code",
   "execution_count": 15,
   "metadata": {},
   "outputs": [
    {
     "data": {
      "text/plain": [
       "Unnamed: 0      0\n",
       "Episode         0\n",
       "Station         0\n",
       "Channel Type    0\n",
       "Season          0\n",
       "Year            0\n",
       "Date            0\n",
       "Day of week     0\n",
       "Start_time      0\n",
       "End_time        0\n",
       "Length          0\n",
       "Name of show    0\n",
       "Genre           0\n",
       "First time?     0\n",
       "Episodes?       0\n",
       "Movie?          0\n",
       "Any game?       0\n",
       "Target          0\n",
       "Temperature     0\n",
       "Day             0\n",
       "Month           0\n",
       "dtype: int64"
      ]
     },
     "execution_count": 15,
     "metadata": {},
     "output_type": "execute_result"
    }
   ],
   "source": [
    "df.isnull().sum()"
   ]
  },
  {
   "cell_type": "markdown",
   "metadata": {},
   "source": [
    "---"
   ]
  },
  {
   "cell_type": "markdown",
   "metadata": {},
   "source": [
    "## 3. Feature Engineering"
   ]
  },
  {
   "cell_type": "code",
   "execution_count": 16,
   "metadata": {},
   "outputs": [],
   "source": [
    "# Binning Temperature column into some Interval\n",
    "temp = df['Temperature']\n",
    "bw = int( (max(temp) - min(temp)) / 5 )\n",
    "bins = range(int(min(temp)), int(max(temp)), bw)\n",
    "df['Temp-binned'] = pd.cut(temp, bins)\n",
    "\n",
    "# Binning Length column into some Interval\n",
    "leng = df['Length']\n",
    "bw = int( (max(leng) - min(leng)) / 5 )\n",
    "bins = range(int(min(leng)), int(max(leng)), bw)\n",
    "df['Length-binned'] = pd.cut(leng, bins)"
   ]
  },
  {
   "cell_type": "code",
   "execution_count": 17,
   "metadata": {},
   "outputs": [],
   "source": [
    "# Seperate weekday or weekend values in a different column\n",
    "df['Weekend?'] = ['Yes' if (row == 'Sunday' or row == 'Saturday') else 'No' \n",
    "                  for row in df['Day of week']]"
   ]
  },
  {
   "cell_type": "code",
   "execution_count": 18,
   "metadata": {},
   "outputs": [],
   "source": [
    "df['Time of start'] = ['Morning' if (row >= dt.time(6) and row < dt.time(12)) \n",
    "                       else 'Afternoon' if (row >= dt.time(12) and row < dt.time(16))\n",
    "                       else 'Evening' if (row >= dt.time(16) and row < dt.time(20))\n",
    "                       else 'Night' if (row >= dt.time(20) and row < dt.time(23,55,0))\n",
    "                       else 'Midnight'\n",
    "                       for row in df['Start_time']]"
   ]
  },
  {
   "cell_type": "code",
   "execution_count": 19,
   "metadata": {},
   "outputs": [],
   "source": [
    "# Calculate and subtitude mean, std and max of Target values of previous shows \n",
    "# which have same Name of show for any new sample in training part of dataset\n",
    "\n",
    "df['avg_prv_target'] = 0.0\n",
    "df['max_prv_target'] = 0.0\n",
    "df['std_prv_target'] = 0.0\n",
    "\n",
    "df_train = df[:last_index]\n",
    "serials = df_train.groupby(df_train['Name of show']).size().index\n",
    "\n",
    "for serial in serials:\n",
    "    inds = df_train[df_train['Name of show'] == serial]['Target'].index\n",
    "    vals = df_train[df_train['Name of show'] == serial]['Target'].values\n",
    "    \n",
    "    for i in range(1,len(inds)):\n",
    "        df.at[inds[i], 'avg_prv_target'] = round(np.mean(vals[0:i]),2)\n",
    "        df.at[inds[i], 'max_prv_target'] = round(np.max(vals[0:i]),2)\n",
    "        df.at[inds[i], 'std_prv_target'] = round(np.std(vals[0:i]),2)"
   ]
  },
  {
   "cell_type": "code",
   "execution_count": 20,
   "metadata": {},
   "outputs": [],
   "source": [
    "# Subtitude std, max and mean of targets column in test part of dataset with \n",
    "# these values from calculated values in training part\n",
    "\n",
    "df_train = df[:last_index]\n",
    "df_test = df[last_index:]\n",
    "\n",
    "train_serials = df_train.groupby(df_train['Name of show']).size().index\n",
    "test_serials = df_test.groupby(df_test['Name of show']).size().index\n",
    "\n",
    "\n",
    "for serial in test_serials:\n",
    "    if serial in train_serials:\n",
    "        \n",
    "        a = round(np.mean(df_train[df_train['Name of show'] == serial]['Target']),2)\n",
    "        m = round(np.max(df_train[df_train['Name of show'] == serial]['Target']),2)\n",
    "        s = round(np.std(df_train[df_train['Name of show'] == serial]['Target']),2)\n",
    "        \n",
    "        inds = df_test[df_test['Name of show'] == serial].index\n",
    "        for i in inds:\n",
    "            df.at[i, 'avg_prv_target'] = a\n",
    "            df.at[i, 'max_prv_target'] = m\n",
    "            df.at[i, 'std_prv_target'] = s"
   ]
  },
  {
   "cell_type": "code",
   "execution_count": 21,
   "metadata": {},
   "outputs": [],
   "source": [
    "removing_columns = ['Episode', 'Date', 'Day of week', 'Start_time', 'End_time', 'Length', \n",
    "                    'Name of show', 'Target', 'Temperature', 'Day', 'Month']\n",
    "df_new = df.drop(removing_columns, axis=1)"
   ]
  },
  {
   "cell_type": "code",
   "execution_count": 22,
   "metadata": {},
   "outputs": [],
   "source": [
    "encoding_columns = ['Station', 'Channel Type', 'Season', 'Year', 'Genre', 'First time?', \n",
    "                    'Episodes?', 'Movie?','Any game?', 'Temp-binned', 'Length-binned', \n",
    "                    'Weekend?', 'Time of start']\n",
    "df_new = pd.get_dummies(df_new, columns=encoding_columns)"
   ]
  },
  {
   "cell_type": "markdown",
   "metadata": {},
   "source": [
    "***"
   ]
  },
  {
   "cell_type": "markdown",
   "metadata": {},
   "source": [
    "## 4. Modeling and Predicting"
   ]
  },
  {
   "cell_type": "markdown",
   "metadata": {},
   "source": [
    "#### A. Train and Test data seperation"
   ]
  },
  {
   "cell_type": "code",
   "execution_count": 23,
   "metadata": {},
   "outputs": [],
   "source": [
    "X = df_new\n",
    "y = df['Target']"
   ]
  },
  {
   "cell_type": "code",
   "execution_count": 24,
   "metadata": {},
   "outputs": [],
   "source": [
    "regex = re.compile(r\"\\[|\\]|<\", re.IGNORECASE)\n",
    "X.columns = [regex.sub(\"_\", col) if any(x in str(col) for x in set(('[', ']', '<'))) \n",
    "             else col for col in X.columns.values]"
   ]
  },
  {
   "cell_type": "code",
   "execution_count": 25,
   "metadata": {},
   "outputs": [
    {
     "data": {
      "text/html": [
       "<div>\n",
       "<style scoped>\n",
       "    .dataframe tbody tr th:only-of-type {\n",
       "        vertical-align: middle;\n",
       "    }\n",
       "\n",
       "    .dataframe tbody tr th {\n",
       "        vertical-align: top;\n",
       "    }\n",
       "\n",
       "    .dataframe thead th {\n",
       "        text-align: right;\n",
       "    }\n",
       "</style>\n",
       "<table border=\"1\" class=\"dataframe\">\n",
       "  <thead>\n",
       "    <tr style=\"text-align: right;\">\n",
       "      <th></th>\n",
       "      <th>Unnamed: 0</th>\n",
       "      <th>avg_prv_target</th>\n",
       "      <th>max_prv_target</th>\n",
       "      <th>std_prv_target</th>\n",
       "      <th>Station_ARTV+</th>\n",
       "      <th>Station_Canal D+</th>\n",
       "      <th>Station_Canal Vie+</th>\n",
       "      <th>Station_Evasion+</th>\n",
       "      <th>Station_Historia+</th>\n",
       "      <th>Station_LCN+</th>\n",
       "      <th>...</th>\n",
       "      <th>Length-binned_(36, 54_</th>\n",
       "      <th>Length-binned_(54, 72_</th>\n",
       "      <th>Length-binned_(72, 90_</th>\n",
       "      <th>Weekend?_No</th>\n",
       "      <th>Weekend?_Yes</th>\n",
       "      <th>Time of start_Afternoon</th>\n",
       "      <th>Time of start_Evening</th>\n",
       "      <th>Time of start_Midnight</th>\n",
       "      <th>Time of start_Morning</th>\n",
       "      <th>Time of start_Night</th>\n",
       "    </tr>\n",
       "  </thead>\n",
       "  <tbody>\n",
       "    <tr>\n",
       "      <td>616655</td>\n",
       "      <td>616656</td>\n",
       "      <td>0.33</td>\n",
       "      <td>0.9</td>\n",
       "      <td>0.21</td>\n",
       "      <td>0</td>\n",
       "      <td>0</td>\n",
       "      <td>0</td>\n",
       "      <td>0</td>\n",
       "      <td>0</td>\n",
       "      <td>0</td>\n",
       "      <td>...</td>\n",
       "      <td>0</td>\n",
       "      <td>0</td>\n",
       "      <td>0</td>\n",
       "      <td>1</td>\n",
       "      <td>0</td>\n",
       "      <td>0</td>\n",
       "      <td>0</td>\n",
       "      <td>0</td>\n",
       "      <td>1</td>\n",
       "      <td>0</td>\n",
       "    </tr>\n",
       "    <tr>\n",
       "      <td>616656</td>\n",
       "      <td>1</td>\n",
       "      <td>0.39</td>\n",
       "      <td>1.6</td>\n",
       "      <td>0.35</td>\n",
       "      <td>0</td>\n",
       "      <td>0</td>\n",
       "      <td>0</td>\n",
       "      <td>0</td>\n",
       "      <td>0</td>\n",
       "      <td>0</td>\n",
       "      <td>...</td>\n",
       "      <td>0</td>\n",
       "      <td>0</td>\n",
       "      <td>0</td>\n",
       "      <td>1</td>\n",
       "      <td>0</td>\n",
       "      <td>0</td>\n",
       "      <td>0</td>\n",
       "      <td>0</td>\n",
       "      <td>1</td>\n",
       "      <td>0</td>\n",
       "    </tr>\n",
       "    <tr>\n",
       "      <td>616657</td>\n",
       "      <td>2</td>\n",
       "      <td>0.77</td>\n",
       "      <td>3.5</td>\n",
       "      <td>0.60</td>\n",
       "      <td>0</td>\n",
       "      <td>0</td>\n",
       "      <td>0</td>\n",
       "      <td>0</td>\n",
       "      <td>0</td>\n",
       "      <td>0</td>\n",
       "      <td>...</td>\n",
       "      <td>0</td>\n",
       "      <td>0</td>\n",
       "      <td>0</td>\n",
       "      <td>1</td>\n",
       "      <td>0</td>\n",
       "      <td>1</td>\n",
       "      <td>0</td>\n",
       "      <td>0</td>\n",
       "      <td>0</td>\n",
       "      <td>0</td>\n",
       "    </tr>\n",
       "    <tr>\n",
       "      <td>616658</td>\n",
       "      <td>3</td>\n",
       "      <td>0.83</td>\n",
       "      <td>3.9</td>\n",
       "      <td>0.70</td>\n",
       "      <td>0</td>\n",
       "      <td>0</td>\n",
       "      <td>0</td>\n",
       "      <td>0</td>\n",
       "      <td>0</td>\n",
       "      <td>0</td>\n",
       "      <td>...</td>\n",
       "      <td>0</td>\n",
       "      <td>0</td>\n",
       "      <td>0</td>\n",
       "      <td>1</td>\n",
       "      <td>0</td>\n",
       "      <td>1</td>\n",
       "      <td>0</td>\n",
       "      <td>0</td>\n",
       "      <td>0</td>\n",
       "      <td>0</td>\n",
       "    </tr>\n",
       "  </tbody>\n",
       "</table>\n",
       "<p>4 rows × 90 columns</p>\n",
       "</div>"
      ],
      "text/plain": [
       "        Unnamed: 0  avg_prv_target  max_prv_target  std_prv_target  \\\n",
       "616655      616656            0.33             0.9            0.21   \n",
       "616656           1            0.39             1.6            0.35   \n",
       "616657           2            0.77             3.5            0.60   \n",
       "616658           3            0.83             3.9            0.70   \n",
       "\n",
       "        Station_ARTV+  Station_Canal D+  Station_Canal Vie+  Station_Evasion+  \\\n",
       "616655              0                 0                   0                 0   \n",
       "616656              0                 0                   0                 0   \n",
       "616657              0                 0                   0                 0   \n",
       "616658              0                 0                   0                 0   \n",
       "\n",
       "        Station_Historia+  Station_LCN+  ...  Length-binned_(36, 54_  \\\n",
       "616655                  0             0  ...                       0   \n",
       "616656                  0             0  ...                       0   \n",
       "616657                  0             0  ...                       0   \n",
       "616658                  0             0  ...                       0   \n",
       "\n",
       "        Length-binned_(54, 72_  Length-binned_(72, 90_  Weekend?_No  \\\n",
       "616655                       0                       0            1   \n",
       "616656                       0                       0            1   \n",
       "616657                       0                       0            1   \n",
       "616658                       0                       0            1   \n",
       "\n",
       "        Weekend?_Yes  Time of start_Afternoon  Time of start_Evening  \\\n",
       "616655             0                        0                      0   \n",
       "616656             0                        0                      0   \n",
       "616657             0                        1                      0   \n",
       "616658             0                        1                      0   \n",
       "\n",
       "        Time of start_Midnight  Time of start_Morning  Time of start_Night  \n",
       "616655                       0                      1                    0  \n",
       "616656                       0                      1                    0  \n",
       "616657                       0                      0                    0  \n",
       "616658                       0                      0                    0  \n",
       "\n",
       "[4 rows x 90 columns]"
      ]
     },
     "execution_count": 25,
     "metadata": {},
     "output_type": "execute_result"
    }
   ],
   "source": [
    "X.loc[last_index-1:last_index +2]"
   ]
  },
  {
   "cell_type": "code",
   "execution_count": 26,
   "metadata": {},
   "outputs": [],
   "source": [
    "X.drop('Unnamed: 0', axis=1, inplace=True)"
   ]
  },
  {
   "cell_type": "code",
   "execution_count": 27,
   "metadata": {},
   "outputs": [],
   "source": [
    "# Assign each part of dataframe to training and test\n",
    "X_train = X.loc[:last_index]\n",
    "X_test = X.loc[last_index:]\n",
    "y_train = y.loc[:last_index]"
   ]
  },
  {
   "cell_type": "markdown",
   "metadata": {},
   "source": [
    "#### B. Load the Model"
   ]
  },
  {
   "cell_type": "code",
   "execution_count": 28,
   "metadata": {},
   "outputs": [],
   "source": [
    "# load saved model\n",
    "filename = 'xgb_model.sav'\n",
    "xg_reg = pickle.load(open(filename, 'rb'))"
   ]
  },
  {
   "cell_type": "code",
   "execution_count": 29,
   "metadata": {},
   "outputs": [
    {
     "data": {
      "text/plain": [
       "XGBRegressor(alpha=10, base_score=0.5, booster=None, colsample_bylevel=1,\n",
       "             colsample_bynode=1, colsample_bytree=0.3, gamma=0, gpu_id=-1,\n",
       "             importance_type='gain', interaction_constraints=None,\n",
       "             learning_rate=0.1, max_delta_step=0, max_depth=50,\n",
       "             min_child_weight=1, missing=nan, monotone_constraints=None,\n",
       "             n_estimators=500, n_jobs=0, num_parallel_tree=1,\n",
       "             objective='reg:squarederror', random_state=0, reg_alpha=10,\n",
       "             reg_lambda=1, scale_pos_weight=1, subsample=1, tree_method=None,\n",
       "             validate_parameters=False, verbosity=None)"
      ]
     },
     "execution_count": 29,
     "metadata": {},
     "output_type": "execute_result"
    }
   ],
   "source": [
    "# Fit the model into training set\n",
    "xg_reg.fit(X_train, y_train)"
   ]
  },
  {
   "cell_type": "markdown",
   "metadata": {},
   "source": [
    "#### C. Predicting output of Test data"
   ]
  },
  {
   "cell_type": "code",
   "execution_count": 30,
   "metadata": {},
   "outputs": [],
   "source": [
    "# predict total market share for test set\n",
    "y_test = xg_reg.predict(X_test)"
   ]
  },
  {
   "cell_type": "code",
   "execution_count": 31,
   "metadata": {},
   "outputs": [
    {
     "data": {
      "text/plain": [
       "Text(0.5, 1.0, 'Y Test')"
      ]
     },
     "execution_count": 31,
     "metadata": {},
     "output_type": "execute_result"
    },
    {
     "data": {
      "image/png": "[encoded data removed]",
      "text/plain": [
       "<Figure size 720x720 with 2 Axes>"
      ]
     },
     "metadata": {
      "needs_background": "light"
     },
     "output_type": "display_data"
    }
   ],
   "source": [
    "# Comparison between distribution of training and test sets\n",
    "fig, axes = plt.subplots(nrows=2, ncols=1, figsize=(10,10))\n",
    "\n",
    "sns.distplot(y_train, color='c', ax=axes[0])\n",
    "axes[0].set_title('Y Train')\n",
    "\n",
    "sns.distplot(y_test,  color='m', ax=axes[1])\n",
    "axes[1].set_title('Y Test')"
   ]
  },
  {
   "cell_type": "code",
   "execution_count": 32,
   "metadata": {},
   "outputs": [],
   "source": [
    "# Save output into a file\n",
    "test_data = 'prediction.sav'\n",
    "pickle.dump(y_test, open(test_data, 'wb'))"
   ]
  }
 ],
 "metadata": {
  "kernelspec": {
   "display_name": "Python 3",
   "language": "python",
   "name": "python3"
  },
  "language_info": {
   "codemirror_mode": {
    "name": "ipython",
    "version": 3
   },
   "file_extension": ".py",
   "mimetype": "text/x-python",
   "name": "python",
   "nbconvert_exporter": "python",
   "pygments_lexer": "ipython3",
   "version": "3.7.4"
  }
 },
 "nbformat": 4,
 "nbformat_minor": 2
}
